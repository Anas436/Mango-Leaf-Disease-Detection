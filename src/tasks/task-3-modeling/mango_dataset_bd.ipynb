{
  "cells": [
    {
      "cell_type": "code",
      "execution_count": null,
      "metadata": {
        "_cell_guid": "b1076dfc-b9ad-4769-8c92-a6c4dae69d19",
        "_uuid": "8f2839f25d086af736a60e9eeb907d3b93b6e0e5",
        "trusted": true,
        "id": "pqlzHvvTSN5u"
      },
      "outputs": [],
      "source": [
        "!pip install -q timm"
      ]
    },
    {
      "cell_type": "code",
      "execution_count": null,
      "metadata": {
        "trusted": true,
        "id": "HbqgrJ8zSN51"
      },
      "outputs": [],
      "source": [
        "import numpy as np\n",
        "import pandas as pd\n",
        "import os\n",
        "\n",
        "from sklearn import metrics\n",
        "\n",
        "import torch\n",
        "import torch.nn as nn\n",
        "import torch.optim as optim\n",
        "import albumentations\n",
        "import torchvision\n",
        "from torchvision import transforms\n",
        "import timm\n",
        "\n",
        "\n",
        "import PIL\n",
        "import glob\n",
        "from tqdm import tqdm"
      ]
    },
    {
      "cell_type": "code",
      "execution_count": null,
      "metadata": {
        "trusted": true,
        "id": "cXVQojrnSN53"
      },
      "outputs": [],
      "source": [
        "TRAIN_DIR='/kaggle/input/mango-dataset-bangladesh/MangoLeafBD_Without_Testset_Augmentation/Train/'\n",
        "TEST_DIR= '/kaggle/input/mango-dataset-bangladesh/MangoLeafBD_Without_Testset_Augmentation/Test/'\n"
      ]
    },
    {
      "cell_type": "markdown",
      "metadata": {
        "id": "vXBr5xxWSN54"
      },
      "source": [
        "## Calculate the Mean and Standard Deviation of Data"
      ]
    },
    {
      "cell_type": "code",
      "execution_count": null,
      "metadata": {
        "trusted": true,
        "id": "iQrjVh0WSN57"
      },
      "outputs": [],
      "source": [
        "imgs=[]\n",
        "common_size=(256,256)\n",
        "for img in glob.glob(os.path.join(TRAIN_DIR,'**/*.jpg'),recursive=True):\n",
        "    imgs.append(torch.tensor(np.array(PIL.Image.open(img).resize(common_size, PIL.Image.LANCZOS)),dtype=torch.float32))"
      ]
    },
    {
      "cell_type": "code",
      "execution_count": null,
      "metadata": {
        "trusted": true,
        "id": "o4FdzEkDSN58"
      },
      "outputs": [],
      "source": [
        "imgs[0].shape"
      ]
    },
    {
      "cell_type": "code",
      "execution_count": null,
      "metadata": {
        "trusted": true,
        "id": "d_BTLDLBSN59"
      },
      "outputs": [],
      "source": [
        "stacked_images= torch.stack(imgs,dim=0)\n",
        "mean= torch.mean(stacked_images,dim=(0,1,2))\n",
        "std= torch.std(stacked_images,dim=(0,1,2))\n",
        "\n",
        "print(f\"Mean of images: {mean}\")\n",
        "print(f\"Std of images: {std}\")\n"
      ]
    },
    {
      "cell_type": "markdown",
      "metadata": {
        "id": "ePDRr1KgSN5-"
      },
      "source": [
        "## Perform Augmentations and save the data"
      ]
    },
    {
      "cell_type": "code",
      "execution_count": null,
      "metadata": {
        "trusted": true,
        "id": "g5DEXCosSN5_"
      },
      "outputs": [],
      "source": [
        "train_transform=transforms.Compose([transforms.RandomResizedCrop(256),\n",
        "                                          transforms.RandomHorizontalFlip(),\n",
        "                                          transforms.RandomRotation(30),\n",
        "                                          transforms.ColorJitter(brightness=0.2, contrast=0.2, saturation=0.2, hue=0.2),\n",
        "                                          transforms.ToTensor(),\n",
        "                                          transforms.Normalize(mean=[171.7605, 176.1683, 173.1120],std=[52.8552, 50.4523, 68.5839])])\n",
        "test_transform= transforms.Compose([transforms.Resize(common_size),\n",
        "                                    transforms.ToTensor(),\n",
        "                                    transforms.Normalize(mean=[171.7605, 176.1683, 173.1120],std=[52.8552, 50.4523, 68.5839])])"
      ]
    },
    {
      "cell_type": "code",
      "execution_count": null,
      "metadata": {
        "trusted": true,
        "id": "2LMNRtxPSN6B"
      },
      "outputs": [],
      "source": [
        "train_dataset= torchvision.datasets.ImageFolder(TRAIN_DIR,transform=train_transform)\n",
        "test_dataset= torchvision.datasets.ImageFolder(TEST_DIR,transform=test_transform)"
      ]
    },
    {
      "cell_type": "code",
      "execution_count": null,
      "metadata": {
        "trusted": true,
        "id": "4mKY_SrdSN6C"
      },
      "outputs": [],
      "source": [
        "train_loader= torch.utils.data.DataLoader(train_dataset,shuffle=True,batch_size=32)\n",
        "test_loader= torch.utils.data.DataLoader(test_dataset,batch_size=32)"
      ]
    },
    {
      "cell_type": "markdown",
      "metadata": {
        "id": "Zkf4oMQlSN6C"
      },
      "source": [
        "## Model Training and testing"
      ]
    },
    {
      "cell_type": "code",
      "execution_count": null,
      "metadata": {
        "trusted": true,
        "id": "QHksVVPxSN6D"
      },
      "outputs": [],
      "source": [
        "class MangoClassifier(nn.Module):\n",
        "    def __init__(self,num_classes):\n",
        "        super(MangoClassifier,self).__init__()\n",
        "        self.base_model= timm.create_model('vit_base_patch32_plus_256',pretrained=False)\n",
        "        self.base_model.head= nn.Linear(self.base_model.head.in_features,num_classes)\n",
        "\n",
        "    def forward(self,x):\n",
        "        out= torch.softmax(self.base_model(x),dim=1)\n",
        "        return out\n",
        "\n",
        "\n"
      ]
    },
    {
      "cell_type": "code",
      "execution_count": null,
      "metadata": {
        "trusted": true,
        "id": "HaGxMoLMSN6D"
      },
      "outputs": [],
      "source": [
        "model_fn= MangoClassifier(8)\n",
        "rand_img=torch.randn(1,3,256,256)\n",
        "model_fn(rand_img)"
      ]
    },
    {
      "cell_type": "code",
      "execution_count": null,
      "metadata": {
        "trusted": true,
        "id": "ZJpuaKb6SN6E"
      },
      "outputs": [],
      "source": [
        "num_epochs=50\n",
        "optimizer= optim.Adam(model_fn.parameters(),lr=1e-3)\n",
        "loss_fn= nn.CrossEntropyLoss()\n",
        "model_fn.train()\n",
        "all_preds = []\n",
        "all_labels = []\n",
        "device= torch.device(\"cuda\" if torch.cuda.is_available() else \"cpu\")\n",
        "model_fn.to(device)\n",
        "print(f\"Device is {device}\")\n",
        "for epoch in range(num_epochs):\n",
        "    loss_cum=0\n",
        "    ind=0\n",
        "    for img,label in train_loader:\n",
        "        img,label=img.to(device),label.to(device)\n",
        "\n",
        "        out= model_fn(img)\n",
        "        loss=loss_fn(out,label)\n",
        "        optimizer.zero_grad()\n",
        "        loss.backward()\n",
        "        optimizer.step()\n",
        "        loss_cum+=loss.item()\n",
        "        ind+=1\n",
        "\n",
        "        _,predicted= torch.max(out,1)\n",
        "        all_preds.extend(predicted.cpu().numpy())\n",
        "        all_labels.extend(label.cpu().numpy())\n",
        "\n",
        "    print(f\"For epoch {epoch} the loss is {loss_cum/ind} the F1 score is {metrics.f1_score(all_preds,all_labels,average='macro')}\")\n",
        "\n",
        "\n"
      ]
    },
    {
      "cell_type": "code",
      "execution_count": null,
      "metadata": {
        "trusted": true,
        "id": "y2YzbC_vSN6F"
      },
      "outputs": [],
      "source": [
        "model_fn.eval()\n",
        "all_preds = []\n",
        "all_labels = []\n",
        "\n",
        "with torch.no_grad():\n",
        "    for img,labels in test_loader:\n",
        "        img,label=img.to(device),label.to(device)\n",
        "        out=model_fn(img)\n",
        "        _,predicted= torch.max(out,1)\n",
        "        all_preds.extend(predicted.cpu().numpy())\n",
        "        all_labels.extend(labels.cpu().numpy())\n",
        "f1 = metrics.f1_score(all_labels, all_preds, average='weighted')\n",
        "\n",
        "\n"
      ]
    },
    {
      "cell_type": "code",
      "execution_count": null,
      "metadata": {
        "id": "HRgRSSL_SN6G"
      },
      "outputs": [],
      "source": []
    }
  ],
  "metadata": {
    "kernelspec": {
      "display_name": "Python 3",
      "language": "python",
      "name": "python3"
    },
    "language_info": {
      "codemirror_mode": {
        "name": "ipython",
        "version": 3
      },
      "file_extension": ".py",
      "mimetype": "text/x-python",
      "name": "python",
      "nbconvert_exporter": "python",
      "pygments_lexer": "ipython3",
      "version": "3.10.12"
    },
    "colab": {
      "provenance": []
    }
  },
  "nbformat": 4,
  "nbformat_minor": 0
}